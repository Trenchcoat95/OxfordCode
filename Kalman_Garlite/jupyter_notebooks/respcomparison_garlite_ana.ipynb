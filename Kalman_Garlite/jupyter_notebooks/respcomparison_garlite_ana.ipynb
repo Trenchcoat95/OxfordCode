{
 "cells": [
  {
   "cell_type": "code",
   "execution_count": 1,
   "metadata": {},
   "outputs": [
    {
     "name": "stdout",
     "output_type": "stream",
     "text": [
      "Welcome to JupyROOT 6.26/06\n"
     ]
    }
   ],
   "source": [
    "import numpy as np\n",
    "from array import array\n",
    "import os\n",
    "import sys\n",
    "from Plot_func import SetHisto\n",
    "from Plot_func import SetGlobalStyle\n",
    "from Plot_func import SetCanvas\n",
    "from Plot_func import SetLegend\n",
    "from Plot_func import Draw2HistosRes_fromhisto\n",
    "import ROOT\n",
    "from ROOT import TVectorD, TMatrix, TMath, TVector3, TGraphErrors, TFile, TTree, gRandom, gPad, gROOT, gVirtualX, kTRUE, kRed, TProfile, gStyle\n",
    "\n",
    "SetGlobalStyle()"
   ]
  },
  {
   "cell_type": "code",
   "execution_count": 2,
   "metadata": {},
   "outputs": [],
   "source": [
    "muon_mass = 0.1056583755 #GeV/c^2\n",
    "subfix1 = \"smearx03y03\"\n",
    "subfix2 = \"_aliceseed_elossnocorr_MSnocorr_Helix\"\n",
    "subfix3 = \"_r03_03\"\n",
    "subfix4 = \"_p_0.1_4\"\n",
    "folder = \"/home/federico/Documents/Universita/Federico_2020-2021/OxfordCode/Kalman_Garlite/toygarlite/6planes/\"+subfix1+subfix2+subfix4+\"/\"\n",
    "png = \".png\"\n",
    "filename = folder+\"garlitetest_\"+subfix1+subfix2+subfix3+subfix4+\".root\"\n",
    "\n",
    "file = ROOT.TFile(filename)\n",
    "t=file.Get(\"t1s\")      "
   ]
  },
  {
   "cell_type": "code",
   "execution_count": 3,
   "metadata": {},
   "outputs": [],
   "source": [
    "muon_mass = 0.1056583755 #GeV/c^2\n",
    "subfix1 = \"smearx03y03\"\n",
    "subfix2 = \"_aliceseed_elosscorr_MScorr_HelixMSEloss\"\n",
    "subfix3 = \"_r03_03\"\n",
    "subfix4 = \"_p_0.1_4\"\n",
    "folder = \"/home/federico/Documents/Universita/Federico_2020-2021/OxfordCode/Kalman_Garlite/toygarlite/6planes/\"+subfix1+subfix2+subfix4+\"/\"\n",
    "png = \".png\"\n",
    "filename2 = folder+\"garlitetest_\"+subfix1+subfix2+subfix3+subfix4+\".root\"\n",
    "\n",
    "file2 = ROOT.TFile(filename2)\n",
    "t2=file2.Get(\"t1s\")  "
   ]
  },
  {
   "cell_type": "code",
   "execution_count": 4,
   "metadata": {},
   "outputs": [
    {
     "name": "stderr",
     "output_type": "stream",
     "text": [
      "Warning in <TFile::Append>: Replacing existing TH1: h1 (Potential memory leak).\n",
      "Warning in <TFile::Append>: Replacing existing TH1: h2 (Potential memory leak).\n"
     ]
    }
   ],
   "source": [
    "\n",
    "hpResKendVSNPoints = ROOT.TH2D( 'h1', 'h1',5, 5, 15, 21, -0.4, 0.4)\n",
    "hpResKendVSp = ROOT.TH2D( 'h1', 'h1', 7, 0.5, 4, 21, -0.4, 0.4 )\n",
    "\n",
    "\n",
    "hpResKendVSNPoints2 = ROOT.TH2D( 'h2', 'h2', 5, 5, 15, 21, -0.4, 0.4)\n",
    "hpResKendVSp2 = ROOT.TH2D( 'h2', 'h2', 7, 0.5, 4, 21, -0.4, 0.4 )\n",
    "\n"
   ]
  },
  {
   "cell_type": "code",
   "execution_count": 5,
   "metadata": {},
   "outputs": [],
   "source": [
    "for iev in range(t.GetEntries()):\n",
    "    t.GetEntry(iev)\n",
    "    if t.xyz_plane.size()!=0 :\n",
    "        yMC = t.xyz_plane.at(0).Y()\n",
    "        xMC = t.xyz_plane.at(0).X()\n",
    "        sinphiMC = t.sinphi_plane.at(0)   \n",
    "        tanlambdaMC = t.tanlambda_plane.at(0)\n",
    "        invpTMC = t.invpT_plane.at(0)\n",
    "        pMC = np.abs((1/np.cos(np.arctan(t.tanlambda_plane.at(0))))/t.invpT_plane.at(0))\n",
    "\n",
    "        size_MC = t.xyz_plane.size()-1\n",
    "        yMCend = t.xyz_plane.at(size_MC).Y()\n",
    "        xMCend = t.xyz_plane.at(size_MC).X()\n",
    "        sinphiMCend = t.sinphi_plane.at(size_MC)   \n",
    "        tanlambdaMCend = t.tanlambda_plane.at(size_MC)\n",
    "        invpTMCend = t.invpT_plane.at(size_MC)\n",
    "        pEndMC = np.abs((1/np.cos(np.arctan(t.tanlambda_plane.at(size_MC))))/t.invpT_plane.at(size_MC))\n",
    "        \n",
    "        ySeed = t.xyz_seed.Y()\n",
    "        xSeed = t.xyz_seed.X()\n",
    "        sinphiSeed= t.sinphi_seed\n",
    "        tanlambdaSeed=t.tanlambda_seed\n",
    "        invpTSeed = -t.curvature_seed/(0.5*0.00299792458)\n",
    "        pSeed =  pSeed = np.abs((1/np.cos(np.arctan(tanlambdaSeed)))*(0.5*0.299792458e-2)/t.curvature_seed)\n",
    "\n",
    "        ySeedend = t.xyz_seed_bkw.Y()\n",
    "        xSeedend = t.xyz_seed_bkw.X()\n",
    "        sinphiSeedend= t.sinphi_seed_bkw\n",
    "        tanlambdaSeedend=t.tanlambda_seed_bkw\n",
    "        invpTSeedend = -t.curvature_seed_bkw/(0.5*0.00299792458)\n",
    "        pSeedEnd =  pSeed = np.abs((1/np.cos(np.arctan(tanlambdaSeedend)))*(0.5*0.299792458e-2)/t.curvature_seed_bkw)\n",
    "\n",
    "        last_n = t.parvect_bkw.size()-1\n",
    "        y = t.parvect_bkw[last_n][0]\n",
    "        x = t.parvect_bkw[last_n][1]\n",
    "        sinphi= t.parvect_bkw[last_n][2]\n",
    "        tanlambda=t.parvect_bkw[last_n][3]\n",
    "        invpT = t.parvect_bkw[last_n][4]\n",
    "        p = np.abs((1/np.cos(np.arctan(t.parvect_bkw[last_n][3])))/t.parvect_bkw[last_n][4])\n",
    "\n",
    "        last_n_end = t.parvect.size()-1\n",
    "        yend = t.parvect[last_n_end][0]\n",
    "        xend = t.parvect[last_n_end][1]\n",
    "        sinphiend= t.parvect[last_n_end][2]\n",
    "        tanlambdaend=t.parvect[last_n_end][3]\n",
    "        invpTend = t.parvect[last_n_end][4]\n",
    "        pEnd = np.abs((1/np.cos(np.arctan(t.parvect[last_n_end][3])))/t.parvect[last_n_end][4])\n",
    "\n",
    "\n",
    "        hpResKendVSNPoints.Fill(last_n +1,(pEnd-pEndMC)/pEndMC)\n",
    "        hpResKendVSp.Fill(pMC,(pEnd-pEndMC)/pEndMC)\n",
    "        "
   ]
  },
  {
   "cell_type": "code",
   "execution_count": 6,
   "metadata": {},
   "outputs": [],
   "source": [
    "for iev in range(t2.GetEntries()):\n",
    "    t2.GetEntry(iev)\n",
    "    if t2.xyz_plane.size()!=0 :\n",
    "        yMC = t2.xyz_plane.at(0).Y()\n",
    "        xMC = t2.xyz_plane.at(0).X()\n",
    "        sinphiMC = t2.sinphi_plane.at(0)   \n",
    "        tanlambdaMC = t2.tanlambda_plane.at(0)\n",
    "        invpTMC = t2.invpT_plane.at(0)\n",
    "        pMC = np.abs((1/np.cos(np.arctan(t2.tanlambda_plane.at(0))))/t2.invpT_plane.at(0))\n",
    "\n",
    "        size_MC = t2.xyz_plane.size()-1\n",
    "        yMCend = t2.xyz_plane.at(size_MC).Y()\n",
    "        xMCend = t2.xyz_plane.at(size_MC).X()\n",
    "        sinphiMCend = t2.sinphi_plane.at(size_MC)   \n",
    "        tanlambdaMCend = t2.tanlambda_plane.at(size_MC)\n",
    "        invpTMCend = t2.invpT_plane.at(size_MC)\n",
    "        pEndMC = np.abs((1/np.cos(np.arctan(t2.tanlambda_plane.at(size_MC))))/t2.invpT_plane.at(size_MC))\n",
    "        \n",
    "        ySeed = t2.xyz_seed.Y()\n",
    "        xSeed = t2.xyz_seed.X()\n",
    "        sinphiSeed= t2.sinphi_seed\n",
    "        tanlambdaSeed=t2.tanlambda_seed\n",
    "        invpTSeed = -t2.curvature_seed/(0.5*0.00299792458)\n",
    "        pSeed =  pSeed = np.abs((1/np.cos(np.arctan(tanlambdaSeed)))*(0.5*0.299792458e-2)/t2.curvature_seed)\n",
    "\n",
    "        ySeedend = t2.xyz_seed_bkw.Y()\n",
    "        xSeedend = t2.xyz_seed_bkw.X()\n",
    "        sinphiSeedend= t2.sinphi_seed_bkw\n",
    "        tanlambdaSeedend=t2.tanlambda_seed_bkw\n",
    "        invpTSeedend = -t2.curvature_seed_bkw/(0.5*0.00299792458)\n",
    "        pSeedEnd =  pSeed = np.abs((1/np.cos(np.arctan(tanlambdaSeedend)))*(0.5*0.299792458e-2)/t2.curvature_seed_bkw)\n",
    "\n",
    "        last_n = t2.parvect_bkw.size()-1\n",
    "        y = t2.parvect_bkw[last_n][0]\n",
    "        x = t2.parvect_bkw[last_n][1]\n",
    "        sinphi= t2.parvect_bkw[last_n][2]\n",
    "        tanlambda=t2.parvect_bkw[last_n][3]\n",
    "        invpT = t2.parvect_bkw[last_n][4]\n",
    "        p = np.abs((1/np.cos(np.arctan(t2.parvect_bkw[last_n][3])))/t2.parvect_bkw[last_n][4])\n",
    "\n",
    "        last_n_end = t2.parvect.size()-1\n",
    "        yend = t2.parvect[last_n_end][0]\n",
    "        xend = t2.parvect[last_n_end][1]\n",
    "        sinphiend= t2.parvect[last_n_end][2]\n",
    "        tanlambdaend=t2.parvect[last_n_end][3]\n",
    "        invpTend = t2.parvect[last_n_end][4]\n",
    "        pEnd = np.abs((1/np.cos(np.arctan(t2.parvect[last_n_end][3])))/t2.parvect[last_n_end][4])\n",
    "\n",
    "\n",
    "        hpResKendVSNPoints2.Fill(last_n +1,(pEnd-pEndMC)/pEndMC)\n",
    "        hpResKendVSp2.Fill(pMC,(pEnd-pEndMC)/pEndMC)"
   ]
  },
  {
   "cell_type": "markdown",
   "metadata": {},
   "source": [
    "### p Residuals VS Length"
   ]
  },
  {
   "cell_type": "code",
   "execution_count": 14,
   "metadata": {},
   "outputs": [
    {
     "name": "stderr",
     "output_type": "stream",
     "text": [
      "Warning in <TCanvas::Constructor>: Deleting canvas with same name: cc\n",
      "Info in <TH2D::DoFitSlices>: Slice fit 0 (3.000000,5.000000)\n",
      "Info in <TH2D::DoFitSlices>: Slice fit 1 (5.000000,7.000000)\n",
      "Info in <TH2D::DoFitSlices>: Slice fit 2 (7.000000,9.000000)\n",
      "Info in <TH2D::DoFitSlices>: Slice fit 3 (9.000000,11.000000)\n",
      "Info in <TH2D::DoFitSlices>: Slice fit 4 (11.000000,13.000000)\n",
      "Info in <TH2D::DoFitSlices>: Slice fit 5 (13.000000,15.000000)\n",
      "Info in <TH2D::DoFitSlices>: Slice fit 6 (15.000000,17.000000)\n",
      "Info in <TH2D::DoFitSlices>: Slice fit 0 (3.000000,5.000000)\n",
      "Info in <TH2D::DoFitSlices>: Slice fit 1 (5.000000,7.000000)\n",
      "Info in <TH2D::DoFitSlices>: Slice fit 2 (7.000000,9.000000)\n",
      "Info in <TH2D::DoFitSlices>: Slice fit 3 (9.000000,11.000000)\n",
      "Info in <TH2D::DoFitSlices>: Slice fit 4 (11.000000,13.000000)\n",
      "Info in <TH2D::DoFitSlices>: Slice fit 5 (13.000000,15.000000)\n",
      "Info in <TH2D::DoFitSlices>: Slice fit 6 (15.000000,17.000000)\n",
      "Info in <TCanvas::Print>: eps file /home/federico/Documents/Universita/Federico_2020-2021/OxfordCode/Kalman_Garlite/toygarlite/6planes/smearx03y03_aliceseed_elosscorr_MScorr_HelixMSEloss_p_0.1_4/RespVSN.eps has been created\n"
     ]
    },
    {
     "data": {
      "image/png": "[encoded data removed]",
      "text/plain": [
       "<IPython.core.display.Image object>"
      ]
     },
     "metadata": {},
     "output_type": "display_data"
    }
   ],
   "source": [
    "Xname = \"#it{N}\"\n",
    "yrangeuser = [0.02,0.08]\n",
    "\n",
    "cc=ROOT.TCanvas(\"cc\",\"\",600,600)\n",
    "lg = ROOT.TLegend(0.33, 0.74, 0.94, 0.9)\n",
    "\n",
    "Draw2HistosRes_fromhisto(hpResKendVSNPoints,hpResKendVSNPoints2,\"h1\",\"h2\",Xname,cc,lg,\"KF no corr\", \"KF corr\",yrangeuser,2)\n",
    "lg.Draw()\n",
    "cc.Draw()\n",
    "cc.Print(folder+\"RespVSN.eps\")"
   ]
  },
  {
   "cell_type": "code",
   "execution_count": 13,
   "metadata": {},
   "outputs": [
    {
     "name": "stderr",
     "output_type": "stream",
     "text": [
      "Warning in <TCanvas::Constructor>: Deleting canvas with same name: cc\n",
      "Info in <TH2D::DoFitSlices>: Slice fit 0 (3.000000,5.000000)\n",
      "Info in <TH2D::DoFitSlices>: Slice fit 1 (5.000000,7.000000)\n",
      "Info in <TH2D::DoFitSlices>: Slice fit 2 (7.000000,9.000000)\n",
      "Info in <TH2D::DoFitSlices>: Slice fit 3 (9.000000,11.000000)\n",
      "Info in <TH2D::DoFitSlices>: Slice fit 4 (11.000000,13.000000)\n",
      "Info in <TH2D::DoFitSlices>: Slice fit 5 (13.000000,15.000000)\n",
      "Info in <TH2D::DoFitSlices>: Slice fit 6 (15.000000,17.000000)\n",
      "Info in <TH2D::DoFitSlices>: Slice fit 0 (3.000000,5.000000)\n",
      "Info in <TH2D::DoFitSlices>: Slice fit 1 (5.000000,7.000000)\n",
      "Info in <TH2D::DoFitSlices>: Slice fit 2 (7.000000,9.000000)\n",
      "Info in <TH2D::DoFitSlices>: Slice fit 3 (9.000000,11.000000)\n",
      "Info in <TH2D::DoFitSlices>: Slice fit 4 (11.000000,13.000000)\n",
      "Info in <TH2D::DoFitSlices>: Slice fit 5 (13.000000,15.000000)\n",
      "Info in <TH2D::DoFitSlices>: Slice fit 6 (15.000000,17.000000)\n",
      "Info in <TCanvas::Print>: eps file /home/federico/Documents/Universita/Federico_2020-2021/OxfordCode/Kalman_Garlite/toygarlite/6planes/smearx03y03_aliceseed_elosscorr_MScorr_HelixMSEloss_p_0.1_4/BiaspVSN.eps has been created\n"
     ]
    },
    {
     "data": {
      "image/png": "[encoded data removed]",
      "text/plain": [
       "<IPython.core.display.Image object>"
      ]
     },
     "metadata": {},
     "output_type": "display_data"
    }
   ],
   "source": [
    "Xname = \"#it{N}\"\n",
    "yrangeuser = [-0.01,0.03]\n",
    "\n",
    "cc=ROOT.TCanvas(\"cc\",\"\",600,600)\n",
    "lg = ROOT.TLegend(0.33, 0.74, 0.94, 0.9)\n",
    "\n",
    "Draw2HistosRes_fromhisto(hpResKendVSNPoints,hpResKendVSNPoints2,\"h1\",\"h2\",Xname,cc,lg,\"KF no corr\", \"KF corr\",yrangeuser,1)\n",
    "lg.Draw()\n",
    "cc.Draw()\n",
    "cc.Print(folder+\"BiaspVSN.eps\")"
   ]
  },
  {
   "cell_type": "markdown",
   "metadata": {},
   "source": [
    "#### p Res VS p"
   ]
  },
  {
   "cell_type": "code",
   "execution_count": 19,
   "metadata": {},
   "outputs": [
    {
     "name": "stderr",
     "output_type": "stream",
     "text": [
      "Warning in <TCanvas::Constructor>: Deleting canvas with same name: cc\n",
      "Info in <TH2D::DoFitSlices>: Slice fit 0 (0.000000,0.500000)\n",
      "Info in <TH2D::DoFitSlices>: Slice fit 1 (0.500000,1.000000)\n",
      "Info in <TH2D::DoFitSlices>: Slice fit 2 (1.000000,1.500000)\n",
      "Info in <TH2D::DoFitSlices>: Slice fit 3 (1.500000,2.000000)\n",
      "Info in <TH2D::DoFitSlices>: Slice fit 4 (2.000000,2.500000)\n",
      "Info in <TH2D::DoFitSlices>: Slice fit 5 (2.500000,3.000000)\n",
      "Info in <TH2D::DoFitSlices>: Slice fit 6 (3.000000,3.500000)\n",
      "Info in <TH2D::DoFitSlices>: Slice fit 7 (3.500000,4.000000)\n",
      "Info in <TH2D::DoFitSlices>: Slice fit 8 (4.000000,4.500000)\n",
      "Info in <TH2D::DoFitSlices>: Slice fit 0 (0.000000,0.500000)\n",
      "Info in <TH2D::DoFitSlices>: Slice fit 1 (0.500000,1.000000)\n",
      "Info in <TH2D::DoFitSlices>: Slice fit 2 (1.000000,1.500000)\n",
      "Info in <TH2D::DoFitSlices>: Slice fit 3 (1.500000,2.000000)\n",
      "Info in <TH2D::DoFitSlices>: Slice fit 4 (2.000000,2.500000)\n",
      "Info in <TH2D::DoFitSlices>: Slice fit 5 (2.500000,3.000000)\n",
      "Info in <TH2D::DoFitSlices>: Slice fit 6 (3.000000,3.500000)\n",
      "Info in <TH2D::DoFitSlices>: Slice fit 7 (3.500000,4.000000)\n",
      "Info in <TH2D::DoFitSlices>: Slice fit 8 (4.000000,4.500000)\n",
      "Info in <TCanvas::Print>: eps file /home/federico/Documents/Universita/Federico_2020-2021/OxfordCode/Kalman_Garlite/toygarlite/6planes/smearx03y03_aliceseed_elosscorr_MScorr_HelixMSEloss_p_0.1_4/RespVSp.eps has been created\n"
     ]
    },
    {
     "data": {
      "image/png": "[encoded data removed]",
      "text/plain": [
       "<IPython.core.display.Image object>"
      ]
     },
     "metadata": {},
     "output_type": "display_data"
    }
   ],
   "source": [
    "Xname = \"#it{p}^{true} (GeV/c)\"\n",
    "yrangeuser = [0.02,0.07]\n",
    "\n",
    "cc=ROOT.TCanvas(\"cc\",\"\",600,600)\n",
    "lg = ROOT.TLegend(0.33, 0.74, 0.94, 0.9)\n",
    "\n",
    "Draw2HistosRes_fromhisto(hpResKendVSp,hpResKendVSp2,\"h1\",\"h2\",Xname,cc,lg,\"KF no corr\", \"KF corr\",yrangeuser,2)\n",
    "lg.Draw()\n",
    "cc.Draw()\n",
    "cc.Print(folder+\"RespVSp.eps\")"
   ]
  },
  {
   "cell_type": "code",
   "execution_count": 16,
   "metadata": {},
   "outputs": [
    {
     "name": "stderr",
     "output_type": "stream",
     "text": [
      "Warning in <TCanvas::Constructor>: Deleting canvas with same name: cc\n",
      "Info in <TH2D::DoFitSlices>: Slice fit 0 (0.000000,0.500000)\n",
      "Info in <TH2D::DoFitSlices>: Slice fit 1 (0.500000,1.000000)\n",
      "Info in <TH2D::DoFitSlices>: Slice fit 2 (1.000000,1.500000)\n",
      "Info in <TH2D::DoFitSlices>: Slice fit 3 (1.500000,2.000000)\n",
      "Info in <TH2D::DoFitSlices>: Slice fit 4 (2.000000,2.500000)\n",
      "Info in <TH2D::DoFitSlices>: Slice fit 5 (2.500000,3.000000)\n",
      "Info in <TH2D::DoFitSlices>: Slice fit 6 (3.000000,3.500000)\n",
      "Info in <TH2D::DoFitSlices>: Slice fit 7 (3.500000,4.000000)\n",
      "Info in <TH2D::DoFitSlices>: Slice fit 8 (4.000000,4.500000)\n",
      "Info in <TH2D::DoFitSlices>: Slice fit 0 (0.000000,0.500000)\n",
      "Info in <TH2D::DoFitSlices>: Slice fit 1 (0.500000,1.000000)\n",
      "Info in <TH2D::DoFitSlices>: Slice fit 2 (1.000000,1.500000)\n",
      "Info in <TH2D::DoFitSlices>: Slice fit 3 (1.500000,2.000000)\n",
      "Info in <TH2D::DoFitSlices>: Slice fit 4 (2.000000,2.500000)\n",
      "Info in <TH2D::DoFitSlices>: Slice fit 5 (2.500000,3.000000)\n",
      "Info in <TH2D::DoFitSlices>: Slice fit 6 (3.000000,3.500000)\n",
      "Info in <TH2D::DoFitSlices>: Slice fit 7 (3.500000,4.000000)\n",
      "Info in <TH2D::DoFitSlices>: Slice fit 8 (4.000000,4.500000)\n",
      "Info in <TCanvas::Print>: eps file /home/federico/Documents/Universita/Federico_2020-2021/OxfordCode/Kalman_Garlite/toygarlite/6planes/smearx03y03_aliceseed_elosscorr_MScorr_HelixMSEloss_p_0.1_4/BiaspVSp.eps has been created\n"
     ]
    },
    {
     "data": {
      "image/png": "[encoded data removed]",
      "text/plain": [
       "<IPython.core.display.Image object>"
      ]
     },
     "metadata": {},
     "output_type": "display_data"
    }
   ],
   "source": [
    "Xname = \"#it{p}^{true} (GeV/c)\"\n",
    "yrangeuser = [-0.01,0.03]\n",
    "\n",
    "cc=ROOT.TCanvas(\"cc\",\"\",600,600)\n",
    "lg = ROOT.TLegend(0.33, 0.74, 0.94, 0.9)\n",
    "\n",
    "Draw2HistosRes_fromhisto(hpResKendVSp,hpResKendVSp2,\"h1\",\"h2\",Xname,cc,lg,\"KF no corr\", \"KF corr\",yrangeuser,1)\n",
    "lg.Draw()\n",
    "cc.Draw()\n",
    "cc.Print(folder+\"BiaspVSp.eps\")"
   ]
  }
 ],
 "metadata": {
  "interpreter": {
   "hash": "916dbcbb3f70747c44a77c7bcd40155683ae19c65e1c03b4aa3499c5328201f1"
  },
  "kernelspec": {
   "display_name": "Python 3.8.10 64-bit",
   "name": "python3"
  },
  "language_info": {
   "codemirror_mode": {
    "name": "ipython",
    "version": 3
   },
   "file_extension": ".py",
   "mimetype": "text/x-python",
   "name": "python",
   "nbconvert_exporter": "python",
   "pygments_lexer": "ipython3",
   "version": "3.10.12"
  },
  "orig_nbformat": 4
 },
 "nbformat": 4,
 "nbformat_minor": 2
}
