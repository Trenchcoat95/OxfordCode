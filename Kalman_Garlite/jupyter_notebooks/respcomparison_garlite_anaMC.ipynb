{
 "cells": [
  {
   "cell_type": "code",
   "execution_count": 1,
   "metadata": {},
   "outputs": [
    {
     "name": "stdout",
     "output_type": "stream",
     "text": [
      "Welcome to JupyROOT 6.26/06\n"
     ]
    }
   ],
   "source": [
    "import numpy as np\n",
    "from array import array\n",
    "import os\n",
    "import sys\n",
    "from Plot_func import Draw3HistosRes_fromhisto\n",
    "from Plot_func import SetGlobalStyle\n",
    "import ROOT\n",
    "from ROOT import TVectorD, TMatrix, TMath, TVector3, TGraphErrors, TFile, TTree, gRandom, gPad, gROOT, gVirtualX, kTRUE, kRed, TProfile, gStyle"
   ]
  },
  {
   "cell_type": "code",
   "execution_count": 2,
   "metadata": {},
   "outputs": [],
   "source": [
    "muon_mass = 0.1056583755 #GeV/c^2\n",
    "folder = \"/home/federico/Documents/Universita/Federico_2020-2021/OxfordCode/Kalman_Garlite/MCgarlite/6planes/\"\n",
    "filetitle = \"MC1GeV_aliceseed_Eloss_MS_kalman_Eloss_MS\"\n",
    "\n",
    "png = \".png\"\n",
    "folder+=filetitle+\"/\"\n",
    "filename = folder+filetitle+\".root\"\n",
    "#filename =\"test.root\"\n",
    "#garlitetest_nosmear_perfectseed_allhits_elosscorrpred_r5_5.root\n",
    "\n",
    "file = ROOT.TFile(filename)\n",
    "t=file.Get(\"t1s\") "
   ]
  },
  {
   "cell_type": "code",
   "execution_count": 3,
   "metadata": {},
   "outputs": [],
   "source": [
    "muon_mass = 0.1056583755 #GeV/c^2\n",
    "folder = \"/home/federico/Documents/Universita/Federico_2020-2021/OxfordCode/Kalman_Garlite/MCgarlite/6planes/\"\n",
    "filetitle = \"MC1GeV_realseed_Eloss_MS_kalman_Eloss_MS\"\n",
    "\n",
    "png = \".png\"\n",
    "folder+=filetitle+\"/\"\n",
    "filename2 = folder+filetitle+\".root\"\n",
    "#filename =\"test.root\"\n",
    "#garlitetest_nosmear_perfectseed_allhits_elosscorrpred_r5_5.root\n",
    "\n",
    "file2 = ROOT.TFile(filename2)\n",
    "t2=file2.Get(\"t1s\") "
   ]
  },
  {
   "cell_type": "code",
   "execution_count": 4,
   "metadata": {},
   "outputs": [],
   "source": [
    "\n",
    "hpResKendVSNPoints = ROOT.TH2D( 'h1', 'h1',10, 4, 14, 21, -0.4, 0.4)\n",
    "\n",
    "\n",
    "hpResKendVSNPoints2 = ROOT.TH2D( 'h2', 'h2', 10, 4, 14, 21, -0.4, 0.4)\n",
    "\n",
    "hpResKendVSNPoints2old = ROOT.TH2D( 'h3', 'h3', 10, 4, 14, 21, -0.4, 0.4)\n",
    "\n"
   ]
  },
  {
   "cell_type": "code",
   "execution_count": 5,
   "metadata": {},
   "outputs": [],
   "source": [
    "for iev in range(t.GetEntries()):\n",
    "    t.GetEntry(iev)\n",
    "    if t.xyz_plane.size()!=0 :\n",
    "        yMC = t.xyz_MC.Y()\n",
    "        xMC = t.xyz_MC.X()\n",
    "        sinphiMC = t.sinphi_MC   \n",
    "        tanlambdaMC = t.tanlambda_MC\n",
    "        invpTMC = t.invpT_MC\n",
    "        pMC = np.sqrt(t.pxyz_MC.Mag2())\n",
    "        \n",
    "\n",
    "        if(t.status ==1):\n",
    "            last_n = t.parvect_bkw.size()-1\n",
    "            y = t.parvect_bkw[last_n][0]\n",
    "            x = t.parvect_bkw[last_n][1]\n",
    "            sinphi= t.parvect_bkw[last_n][2]\n",
    "            tanlambda=t.parvect_bkw[last_n][3]\n",
    "            invpT = t.parvect_bkw[last_n][4]\n",
    "            p = np.abs((1/np.cos(np.arctan(t.parvect_bkw[last_n][3])))/t.parvect_bkw[last_n][4])\n",
    "        else:\n",
    "            y = t.xyz_seed.Y()\n",
    "            x = t.xyz_seed.X()\n",
    "            sinphi= t.sinphi_seed\n",
    "            tanlambda=t.tanlambda_seed\n",
    "            invpT = -t.curvature_seed/(0.5*0.00299792458)\n",
    "            p =  np.abs((1/np.cos(np.arctan(t.tanlambda_seed)))*(0.5*0.299792458e-2)/t.curvature_seed)\n",
    "\n",
    "\n",
    "        hpResKendVSNPoints.Fill(last_n +1,(p-pMC)/pMC)\n",
    "        "
   ]
  },
  {
   "cell_type": "code",
   "execution_count": 6,
   "metadata": {},
   "outputs": [],
   "source": [
    "for iev in range(t2.GetEntries()):\n",
    "    t2.GetEntry(iev)\n",
    "    if t2.xyz_plane.size()!=0 :\n",
    "        yMC = t2.xyz_MC.Y()\n",
    "        xMC = t2.xyz_MC.X()\n",
    "        sinphiMC = t2.sinphi_MC   \n",
    "        tanlambdaMC = t2.tanlambda_MC\n",
    "        invpTMC = t2.invpT_MC\n",
    "        pMC = np.sqrt(t2.pxyz_MC.Mag2())\n",
    "\n",
    "        yILRM = t2.xyz_seed_old.Y()\n",
    "        xILRM = t2.xyz_seed_old.X()\n",
    "        sinphiILRM= t2.sinphi_seed_old\n",
    "        tanlambdaILRM=t2.tanlambda_seed_old\n",
    "        invpTILRM = -t2.curvature_seed_old/(0.5*0.00299792458)\n",
    "        pILRM = np.abs((1/np.cos(np.arctan(tanlambdaILRM)))*(0.5*0.299792458e-2)/t2.curvature_seed_old)\n",
    "\n",
    "\n",
    "        if(t2.status ==1):\n",
    "            last_n = t2.parvect_bkw.size()-1\n",
    "            y = t2.parvect_bkw[last_n][0]\n",
    "            x = t2.parvect_bkw[last_n][1]\n",
    "            sinphi= t2.parvect_bkw[last_n][2]\n",
    "            tanlambda=t2.parvect_bkw[last_n][3]\n",
    "            invpT = t2.parvect_bkw[last_n][4]\n",
    "            p = np.abs((1/np.cos(np.arctan(t2.parvect_bkw[last_n][3])))/t2.parvect_bkw[last_n][4])\n",
    "        else:\n",
    "            y = t2.xyz_seed.Y()\n",
    "            x = t2.xyz_seed.X()\n",
    "            sinphi= t2.sinphi_seed\n",
    "            tanlambda=t2.tanlambda_seed\n",
    "            invpT = -t2.curvature_seed/(0.5*0.00299792458)\n",
    "            p =  np.abs((1/np.cos(np.arctan(t2.tanlambda_seed)))*(0.5*0.299792458e-2)/t2.curvature_seed)\n",
    "\n",
    "\n",
    "        hpResKendVSNPoints2.Fill(last_n +1,(p-pMC)/pMC)\n",
    "\n",
    "        hpResKendVSNPoints2old.Fill(last_n +1,(pILRM-pMC)/pMC)"
   ]
  },
  {
   "cell_type": "markdown",
   "metadata": {},
   "source": [
    "### p Residuals VS Length"
   ]
  },
  {
   "cell_type": "code",
   "execution_count": 9,
   "metadata": {},
   "outputs": [
    {
     "name": "stderr",
     "output_type": "stream",
     "text": [
      "Warning in <TCanvas::Constructor>: Deleting canvas with same name: cc\n",
      "Info in <TH2D::DoFitSlices>: Slice fit 0 (3.000000,4.000000)\n",
      "Info in <TH2D::DoFitSlices>: Slice fit 1 (4.000000,5.000000)\n",
      "Info in <TH2D::DoFitSlices>: Slice fit 2 (5.000000,6.000000)\n",
      "Info in <TH2D::DoFitSlices>: Slice fit 3 (6.000000,7.000000)\n",
      "Info in <TH2D::DoFitSlices>: Slice fit 4 (7.000000,8.000000)\n",
      "Info in <TH2D::DoFitSlices>: Slice fit 5 (8.000000,9.000000)\n",
      "Info in <TH2D::DoFitSlices>: Slice fit 6 (9.000000,10.000000)\n",
      "Info in <TH2D::DoFitSlices>: Slice fit 7 (10.000000,11.000000)\n",
      "Info in <TH2D::DoFitSlices>: Slice fit 8 (11.000000,12.000000)\n",
      "Info in <TH2D::DoFitSlices>: Slice fit 9 (12.000000,13.000000)\n",
      "Info in <TH2D::DoFitSlices>: Slice fit 10 (13.000000,14.000000)\n",
      "Info in <TH2D::DoFitSlices>: Slice fit 11 (14.000000,15.000000)\n",
      "Info in <TH2D::DoFitSlices>: Slice fit 0 (3.000000,4.000000)\n",
      "Info in <TH2D::DoFitSlices>: Slice fit 1 (4.000000,5.000000)\n",
      "Info in <TH2D::DoFitSlices>: Slice fit 2 (5.000000,6.000000)\n",
      "Info in <TH2D::DoFitSlices>: Slice fit 3 (6.000000,7.000000)\n",
      "Info in <TH2D::DoFitSlices>: Slice fit 4 (7.000000,8.000000)\n",
      "Info in <TH2D::DoFitSlices>: Slice fit 5 (8.000000,9.000000)\n",
      "Info in <TH2D::DoFitSlices>: Slice fit 6 (9.000000,10.000000)\n",
      "Info in <TH2D::DoFitSlices>: Slice fit 7 (10.000000,11.000000)\n",
      "Info in <TH2D::DoFitSlices>: Slice fit 8 (11.000000,12.000000)\n",
      "Info in <TH2D::DoFitSlices>: Slice fit 9 (12.000000,13.000000)\n",
      "Info in <TH2D::DoFitSlices>: Slice fit 10 (13.000000,14.000000)\n",
      "Info in <TH2D::DoFitSlices>: Slice fit 11 (14.000000,15.000000)\n",
      "Info in <TH2D::DoFitSlices>: Slice fit 0 (3.000000,4.000000)\n",
      "Info in <TH2D::DoFitSlices>: Slice fit 1 (4.000000,5.000000)\n",
      "Info in <TH2D::DoFitSlices>: Slice fit 2 (5.000000,6.000000)\n",
      "Info in <TH2D::DoFitSlices>: Slice fit 3 (6.000000,7.000000)\n",
      "Info in <TH2D::DoFitSlices>: Slice fit 4 (7.000000,8.000000)\n",
      "Info in <TH2D::DoFitSlices>: Slice fit 5 (8.000000,9.000000)\n",
      "Info in <TH2D::DoFitSlices>: Slice fit 6 (9.000000,10.000000)\n",
      "Info in <TH2D::DoFitSlices>: Slice fit 7 (10.000000,11.000000)\n",
      "Info in <TH2D::DoFitSlices>: Slice fit 8 (11.000000,12.000000)\n",
      "Info in <TH2D::DoFitSlices>: Slice fit 9 (12.000000,13.000000)\n",
      "Info in <TH2D::DoFitSlices>: Slice fit 10 (13.000000,14.000000)\n",
      "Info in <TH2D::DoFitSlices>: Slice fit 11 (14.000000,15.000000)\n",
      "Info in <TCanvas::Print>: eps file /home/federico/Documents/Universita/Federico_2020-2021/OxfordCode/Kalman_Garlite/MCgarlite/6planes/MC1GeV_realseed_Eloss_MS_kalman_Eloss_MS/RespVSN.eps has been created\n"
     ]
    },
    {
     "data": {
      "image/png": "[encoded data removed]",
      "text/plain": [
       "<IPython.core.display.Image object>"
      ]
     },
     "metadata": {},
     "output_type": "display_data"
    }
   ],
   "source": [
    "SetGlobalStyle()\n",
    "\n",
    "Xname = \"#it{N}\"\n",
    "yrangeuser = [0.01,0.04]\n",
    "\n",
    "cc=ROOT.TCanvas(\"cc\",\"\",600,600)\n",
    "lg = ROOT.TLegend(0.33, 0.74, 0.94, 0.9)\n",
    "\n",
    "Draw3HistosRes_fromhisto(hpResKendVSNPoints,hpResKendVSNPoints2,hpResKendVSNPoints2old,\"h1\",\"h2\",\"h3\",Xname,cc,lg,\"3 Point Seed + KF\", \"ILRM Seed + KF \", \"ILRM\", yrangeuser,2)\n",
    "lg.Draw()\n",
    "cc.Draw()\n",
    "cc.Print(folder+\"RespVSN.eps\")"
   ]
  },
  {
   "cell_type": "code",
   "execution_count": 10,
   "metadata": {},
   "outputs": [
    {
     "name": "stderr",
     "output_type": "stream",
     "text": [
      "Warning in <TCanvas::Constructor>: Deleting canvas with same name: cc\n",
      "Info in <TH2D::DoFitSlices>: Slice fit 0 (3.000000,4.000000)\n",
      "Info in <TH2D::DoFitSlices>: Slice fit 1 (4.000000,5.000000)\n",
      "Info in <TH2D::DoFitSlices>: Slice fit 2 (5.000000,6.000000)\n",
      "Info in <TH2D::DoFitSlices>: Slice fit 3 (6.000000,7.000000)\n",
      "Info in <TH2D::DoFitSlices>: Slice fit 4 (7.000000,8.000000)\n",
      "Info in <TH2D::DoFitSlices>: Slice fit 5 (8.000000,9.000000)\n",
      "Info in <TH2D::DoFitSlices>: Slice fit 6 (9.000000,10.000000)\n",
      "Info in <TH2D::DoFitSlices>: Slice fit 7 (10.000000,11.000000)\n",
      "Info in <TH2D::DoFitSlices>: Slice fit 8 (11.000000,12.000000)\n",
      "Info in <TH2D::DoFitSlices>: Slice fit 9 (12.000000,13.000000)\n",
      "Info in <TH2D::DoFitSlices>: Slice fit 10 (13.000000,14.000000)\n",
      "Info in <TH2D::DoFitSlices>: Slice fit 11 (14.000000,15.000000)\n",
      "Info in <TH2D::DoFitSlices>: Slice fit 0 (3.000000,4.000000)\n",
      "Info in <TH2D::DoFitSlices>: Slice fit 1 (4.000000,5.000000)\n",
      "Info in <TH2D::DoFitSlices>: Slice fit 2 (5.000000,6.000000)\n",
      "Info in <TH2D::DoFitSlices>: Slice fit 3 (6.000000,7.000000)\n",
      "Info in <TH2D::DoFitSlices>: Slice fit 4 (7.000000,8.000000)\n",
      "Info in <TH2D::DoFitSlices>: Slice fit 5 (8.000000,9.000000)\n",
      "Info in <TH2D::DoFitSlices>: Slice fit 6 (9.000000,10.000000)\n",
      "Info in <TH2D::DoFitSlices>: Slice fit 7 (10.000000,11.000000)\n",
      "Info in <TH2D::DoFitSlices>: Slice fit 8 (11.000000,12.000000)\n",
      "Info in <TH2D::DoFitSlices>: Slice fit 9 (12.000000,13.000000)\n",
      "Info in <TH2D::DoFitSlices>: Slice fit 10 (13.000000,14.000000)\n",
      "Info in <TH2D::DoFitSlices>: Slice fit 11 (14.000000,15.000000)\n",
      "Info in <TH2D::DoFitSlices>: Slice fit 0 (3.000000,4.000000)\n",
      "Info in <TH2D::DoFitSlices>: Slice fit 1 (4.000000,5.000000)\n",
      "Info in <TH2D::DoFitSlices>: Slice fit 2 (5.000000,6.000000)\n",
      "Info in <TH2D::DoFitSlices>: Slice fit 3 (6.000000,7.000000)\n",
      "Info in <TH2D::DoFitSlices>: Slice fit 4 (7.000000,8.000000)\n",
      "Info in <TH2D::DoFitSlices>: Slice fit 5 (8.000000,9.000000)\n",
      "Info in <TH2D::DoFitSlices>: Slice fit 6 (9.000000,10.000000)\n",
      "Info in <TH2D::DoFitSlices>: Slice fit 7 (10.000000,11.000000)\n",
      "Info in <TH2D::DoFitSlices>: Slice fit 8 (11.000000,12.000000)\n",
      "Info in <TH2D::DoFitSlices>: Slice fit 9 (12.000000,13.000000)\n",
      "Info in <TH2D::DoFitSlices>: Slice fit 10 (13.000000,14.000000)\n",
      "Info in <TH2D::DoFitSlices>: Slice fit 11 (14.000000,15.000000)\n",
      "Info in <TCanvas::Print>: eps file /home/federico/Documents/Universita/Federico_2020-2021/OxfordCode/Kalman_Garlite/MCgarlite/6planes/MC1GeV_realseed_Eloss_MS_kalman_Eloss_MS/BiaspVSN.eps has been created\n"
     ]
    },
    {
     "data": {
      "image/png": "[encoded data removed]",
      "text/plain": [
       "<IPython.core.display.Image object>"
      ]
     },
     "metadata": {},
     "output_type": "display_data"
    }
   ],
   "source": [
    "Xname = \"#it{N}\"\n",
    "yrangeuser = [-0.05,0.03]\n",
    "\n",
    "cc=ROOT.TCanvas(\"cc\",\"\",600,600)\n",
    "lg = ROOT.TLegend(0.33, 0.74, 0.94, 0.9)\n",
    "\n",
    "Draw3HistosRes_fromhisto(hpResKendVSNPoints,hpResKendVSNPoints2,hpResKendVSNPoints2old,\"h1\",\"h2\",\"h3\",Xname,cc,lg,\"3 Point Seed + KF\", \"ILRM Seed + KF \", \"ILRM\", yrangeuser,1)\n",
    "lg.Draw()\n",
    "cc.Draw()\n",
    "cc.Print(folder+\"BiaspVSN.eps\")"
   ]
  }
 ],
 "metadata": {
  "interpreter": {
   "hash": "916dbcbb3f70747c44a77c7bcd40155683ae19c65e1c03b4aa3499c5328201f1"
  },
  "kernelspec": {
   "display_name": "Python 3.8.10 64-bit",
   "name": "python3"
  },
  "language_info": {
   "codemirror_mode": {
    "name": "ipython",
    "version": 3
   },
   "file_extension": ".py",
   "mimetype": "text/x-python",
   "name": "python",
   "nbconvert_exporter": "python",
   "pygments_lexer": "ipython3",
   "version": "3.10.12"
  },
  "orig_nbformat": 4
 },
 "nbformat": 4,
 "nbformat_minor": 2
}
